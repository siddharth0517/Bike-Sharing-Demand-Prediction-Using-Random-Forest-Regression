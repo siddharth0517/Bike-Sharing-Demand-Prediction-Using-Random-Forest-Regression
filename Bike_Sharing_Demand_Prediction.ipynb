{
  "nbformat": 4,
  "nbformat_minor": 0,
  "metadata": {
    "colab": {
      "provenance": [],
      "mount_file_id": "1vp59mfxiApxxPIQR89Q_YF889K-KPMon",
      "authorship_tag": "ABX9TyNSk4sDg7rOsrnydaq7l8Uj",
      "include_colab_link": true
    },
    "kernelspec": {
      "name": "python3",
      "display_name": "Python 3"
    },
    "language_info": {
      "name": "python"
    }
  },
  "cells": [
    {
      "cell_type": "markdown",
      "metadata": {
        "id": "view-in-github",
        "colab_type": "text"
      },
      "source": [
        "<a href=\"https://colab.research.google.com/github/siddharth0517/Bike-Sharing-Demand-Prediction-Using-Random-Forest-Regression/blob/main/Bike_Sharing_Demand_Prediction.ipynb\" target=\"_parent\"><img src=\"https://colab.research.google.com/assets/colab-badge.svg\" alt=\"Open In Colab\"/></a>"
      ]
    },
    {
      "cell_type": "markdown",
      "source": [
        "# Bike Sharing Demand Prediction Using Random Forest Regression"
      ],
      "metadata": {
        "id": "sThyGeM5DSnP"
      }
    },
    {
      "cell_type": "markdown",
      "source": [
        "**1. Importing the libraries**"
      ],
      "metadata": {
        "id": "2S5O79DdDbZ9"
      }
    },
    {
      "cell_type": "code",
      "execution_count": 1,
      "metadata": {
        "id": "vD4S4f-JA_lz"
      },
      "outputs": [],
      "source": [
        "import numpy as np\n",
        "import matplotlib.pyplot as plt\n",
        "import pandas as pd"
      ]
    },
    {
      "cell_type": "markdown",
      "source": [
        "**2. Importing Dataset**"
      ],
      "metadata": {
        "id": "Jzc2NXf_DhcA"
      }
    },
    {
      "cell_type": "code",
      "source": [
        "Dataset = pd.read_csv('hour.csv')\n",
        "X = Dataset.iloc[:, 2:-3].values\n",
        "y = Dataset.iloc[:, -1].values"
      ],
      "metadata": {
        "id": "M6lFPDA-Dgml"
      },
      "execution_count": 2,
      "outputs": []
    },
    {
      "cell_type": "code",
      "source": [
        "X"
      ],
      "metadata": {
        "colab": {
          "base_uri": "https://localhost:8080/"
        },
        "id": "rmPc2NezGTQj",
        "outputId": "44c55547-7df4-4ec3-dbf7-52140f9b3aa1"
      },
      "execution_count": 3,
      "outputs": [
        {
          "output_type": "execute_result",
          "data": {
            "text/plain": [
              "array([[ 1.    ,  0.    ,  1.    , ...,  0.2879,  0.81  ,  0.    ],\n",
              "       [ 1.    ,  0.    ,  1.    , ...,  0.2727,  0.8   ,  0.    ],\n",
              "       [ 1.    ,  0.    ,  1.    , ...,  0.2727,  0.8   ,  0.    ],\n",
              "       ...,\n",
              "       [ 1.    ,  1.    , 12.    , ...,  0.2576,  0.6   ,  0.1642],\n",
              "       [ 1.    ,  1.    , 12.    , ...,  0.2727,  0.56  ,  0.1343],\n",
              "       [ 1.    ,  1.    , 12.    , ...,  0.2727,  0.65  ,  0.1343]])"
            ]
          },
          "metadata": {},
          "execution_count": 3
        }
      ]
    },
    {
      "cell_type": "markdown",
      "source": [
        "**3. Splitting the dataset**"
      ],
      "metadata": {
        "id": "rNhXI2RHHEin"
      }
    },
    {
      "cell_type": "code",
      "source": [
        "from sklearn.model_selection import train_test_split\n",
        "\n",
        "X_train, X_test, y_train, y_test = train_test_split(X, y, test_size=0.2, random_state=0)\n"
      ],
      "metadata": {
        "id": "rzx1zwDpGac-"
      },
      "execution_count": null,
      "outputs": []
    },
    {
      "cell_type": "markdown",
      "source": [
        "**4. Building the model**"
      ],
      "metadata": {
        "id": "cdYSaHpvHQdg"
      }
    },
    {
      "cell_type": "code",
      "source": [
        "from sklearn.ensemble import RandomForestRegressor\n",
        "from sklearn.metrics import mean_squared_error\n",
        "\n",
        "rf = RandomForestRegressor(n_estimators=100, random_state=0)\n",
        "rf.fit(X_train, y_train)\n",
        "\n",
        "y_pred = rf.predict(X_test)\n",
        "\n"
      ],
      "metadata": {
        "id": "QtSc-_RNGum2"
      },
      "execution_count": null,
      "outputs": []
    },
    {
      "cell_type": "markdown",
      "source": [
        "**5. Evaluating the Model**"
      ],
      "metadata": {
        "id": "8jYxEwDlHrCr"
      }
    },
    {
      "cell_type": "code",
      "source": [
        "mse = mean_squared_error(y_test, y_pred)\n",
        "print(f'Mean Squared Error: {mse}')\n"
      ],
      "metadata": {
        "id": "50ysJePMHdA7"
      },
      "execution_count": null,
      "outputs": []
    }
  ]
}